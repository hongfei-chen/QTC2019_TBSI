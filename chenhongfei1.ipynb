{
 "cells": [
  {
   "cell_type": "markdown",
   "metadata": {},
   "source": [
    "# 1.python基础试题"
   ]
  },
  {
   "cell_type": "markdown",
   "metadata": {},
   "source": [
    "1.1 python 中boolean、float 和 int 分别表示什么？布尔型、浮点型、整型"
   ]
  },
  {
   "cell_type": "markdown",
   "metadata": {},
   "source": [
    "1.2  设计求1-2+3-4+5 ... 99的所有数的和"
   ]
  },
  {
   "cell_type": "code",
   "execution_count": 4,
   "metadata": {},
   "outputs": [
    {
     "name": "stdout",
     "output_type": "stream",
     "text": [
      "50\n"
     ]
    }
   ],
   "source": [
    "start = 1\n",
    "sum = 0\n",
    "while start <100:\n",
    "    temp = start % 2\n",
    "    if temp ==1:\n",
    "        sum = sum + start\n",
    "    else:\n",
    "        sum = sum - start\n",
    "    #print(start)\n",
    "    #sum = sum + 1\n",
    "    start += 1\n",
    "print(sum)"
   ]
  },
  {
   "cell_type": "markdown",
   "metadata": {},
   "source": [
    "1.3  将字符串 s=\"yoyo\" 转换成列表"
   ]
  },
  {
   "cell_type": "code",
   "execution_count": 5,
   "metadata": {},
   "outputs": [
    {
     "data": {
      "text/plain": [
       "['y', 'o', 'y', 'o']"
      ]
     },
     "execution_count": 5,
     "metadata": {},
     "output_type": "execute_result"
    }
   ],
   "source": [
    "s='yoyo'\n",
    "list(s)"
   ]
  },
  {
   "cell_type": "markdown",
   "metadata": {},
   "source": [
    "# 2. python进阶基础试题"
   ]
  },
  {
   "cell_type": "markdown",
   "metadata": {},
   "source": [
    "2.1     for i in range(1,100)[2::3][-10:]: \n",
    "\n",
    "                print i \n",
    "                \n",
    "        理解这段代码，并说出它是如何取数的"
   ]
  },
  {
   "cell_type": "code",
   "execution_count": 6,
   "metadata": {},
   "outputs": [],
   "source": [
    "#在从0到99的整数中，取从第三个数到最后一个数的值，步数为3，再在取出来的这些数中去最后面十个值"
   ]
  },
  {
   "cell_type": "markdown",
   "metadata": {},
   "source": [
    "2.2 使用init 实例化时自动运行  分别计算单只股票最高价和收盘价两个时间点差值问题,可统一为one、two两个时间点,其最高价和收盘价赋值为 one(15,7) two(66,20)"
   ]
  },
  {
   "cell_type": "code",
   "execution_count": 7,
   "metadata": {},
   "outputs": [
    {
     "name": "stdout",
     "output_type": "stream",
     "text": [
      "{'one_dif': 8}\n",
      "{'two_dif': 46}\n"
     ]
    }
   ],
   "source": [
    "class HighMinusClose():\n",
    "    def __init__(self,high,close):\n",
    "        self.high = high\n",
    "        self.close = close\n",
    "    def one(self):\n",
    "        return {'one_dif':self.high - self.close}\n",
    "    def two(self):\n",
    "        return {'two_dif':self.high - self.close}\n",
    "print(HighMinusClose(15,7).one())\n",
    "print(HighMinusClose(66,20).two())"
   ]
  },
  {
   "cell_type": "markdown",
   "metadata": {},
   "source": [
    "# 3. pandas数据处理试题"
   ]
  },
  {
   "cell_type": "markdown",
   "metadata": {},
   "source": [
    "3.1 如何查看列名、怎么对数据转置"
   ]
  },
  {
   "cell_type": "code",
   "execution_count": 8,
   "metadata": {},
   "outputs": [
    {
     "ename": "SyntaxError",
     "evalue": "invalid syntax (<ipython-input-8-eb2c82170ff0>, line 2)",
     "output_type": "error",
     "traceback": [
      "\u001b[1;36m  File \u001b[1;32m\"<ipython-input-8-eb2c82170ff0>\"\u001b[1;36m, line \u001b[1;32m2\u001b[0m\n\u001b[1;33m    1.[column for column in df]\u001b[0m\n\u001b[1;37m                ^\u001b[0m\n\u001b[1;31mSyntaxError\u001b[0m\u001b[1;31m:\u001b[0m invalid syntax\n"
     ]
    }
   ],
   "source": [
    "#查看列名的方法\n",
    "1.[column for column in df]\n",
    "2.df.columns.values 返回 array\n",
    "3.list(df)\n",
    "4.df.columns 返回Index 可以通过 tolist(), 或者list(array) 转换为list\n",
    "#数据转置\n",
    "1.Dataframe.T"
   ]
  },
  {
   "cell_type": "markdown",
   "metadata": {},
   "source": [
    "3.2 读取data里的600029这只股票的DataFrame,将其收盘价转换成用Numpy的Array格式，并用talib计算10日EMA值，返回ndarray的最后五个值"
   ]
  },
  {
   "cell_type": "code",
   "execution_count": 9,
   "metadata": {},
   "outputs": [
    {
     "name": "stdout",
     "output_type": "stream",
     "text": [
      "<class 'numpy.ndarray'>\n",
      "[15.145 15.239 15.353 15.528 15.736]\n"
     ]
    }
   ],
   "source": [
    "import numpy as np\n",
    "import pandas as pd\n",
    "import talib as ta\n",
    "data=pd.read_excel('sz50.xlsx',sheet_name=None, index_col='datetime')\n",
    "df=pd.DataFrame(data[\"600029.XSHG\"])\n",
    "close=df['close'].values\n",
    "close_MA10=ta.MA((close), timeperiod=10)\n",
    "print(type(close_MA10))\n",
    "print(close_MA10[-5:])"
   ]
  },
  {
   "cell_type": "markdown",
   "metadata": {},
   "source": [
    "3.3 读取sz50.xlsx的['600029.XSHG','600050.XSHG','601318.XSHG']的全数据做成Panel"
   ]
  },
  {
   "cell_type": "code",
   "execution_count": 10,
   "metadata": {
    "scrolled": true
   },
   "outputs": [
    {
     "name": "stderr",
     "output_type": "stream",
     "text": [
      "F:\\anaconda\\lib\\site-packages\\pandas\\io\\excel.py:329: FutureWarning: The `sheetname` keyword is deprecated, use `sheet_name` instead\n",
      "  **kwds)\n",
      "F:\\anaconda\\lib\\site-packages\\IPython\\core\\interactiveshell.py:3267: FutureWarning: \n",
      "Panel is deprecated and will be removed in a future version.\n",
      "The recommended way to represent these types of 3-dimensional data are with a MultiIndex on a DataFrame, via the Panel.to_frame() method\n",
      "Alternatively, you can use the xarray package http://xarray.pydata.org/en/stable/.\n",
      "Pandas provides a `.to_xarray()` method to help automate this conversion.\n",
      "\n",
      "  exec(code_obj, self.user_global_ns, self.user_ns)\n"
     ]
    },
    {
     "data": {
      "text/plain": [
       "<class 'pandas.core.panel.Panel'>\n",
       "Dimensions: 3 (items) x 215 (major_axis) x 5 (minor_axis)\n",
       "Items axis: 600029.XSHG to 601318.XSHG\n",
       "Major_axis axis: 2017-01-03 15:00:00 to 2017-11-20 15:00:00\n",
       "Minor_axis axis: close to volume"
      ]
     },
     "execution_count": 10,
     "metadata": {},
     "output_type": "execute_result"
    }
   ],
   "source": [
    "import pandas as pd\n",
    "symbol = ['600029.XSHG','600050.XSHG','601318.XSHG']\n",
    "data = dict()\n",
    "for s in symbol:\n",
    "    stock = pd.read_excel('sz50.xlsx',sheetname=s,index_col='datetime')\n",
    "    data[s] = stock\n",
    "PN = pd.Panel(data)\n",
    "PN"
   ]
  },
  {
   "cell_type": "markdown",
   "metadata": {},
   "source": [
    "3.4把Panel转成ndim为3的Numpy，然后用array的切片读取ndim为2的三只股票最近20天的收盘价"
   ]
  },
  {
   "cell_type": "code",
   "execution_count": 12,
   "metadata": {},
   "outputs": [
    {
     "name": "stdout",
     "output_type": "stream",
     "text": [
      "(3, 215, 5)\n",
      "[[ 13.85  13.82  13.83  14.11  14.25  14.39  15.1   15.15  15.22  14.97\n",
      "   14.89  14.99  14.71  15.07  15.35  16.    16.04  16.29  16.97  17.05]\n",
      " [  8.53   8.56   8.62   8.88   9.25   9.24   9.43   9.25   9.02   9.15\n",
      "    9.63   9.5    9.9    9.97   9.96   9.49   9.68   9.61   9.63   9.8 ]\n",
      " [134.83 134.56 137.5  143.18 143.48 144.15 143.61 143.65 144.35 143.36\n",
      "  146.41 144.71 148.56 156.53 157.12 157.72 154.99 163.52 168.58 169.57]]\n"
     ]
    }
   ],
   "source": [
    "import pandas as pd\n",
    "NP = np.array(PN)\n",
    "print(NP.shape)\n",
    "print(NP[:,-20:,0])"
   ]
  },
  {
   "cell_type": "markdown",
   "metadata": {},
   "source": [
    "3.5 建立一个5*5的矩阵，值从0到24"
   ]
  },
  {
   "cell_type": "code",
   "execution_count": null,
   "metadata": {},
   "outputs": [],
   "source": [
    "a=np.arange(25).reshape(5,5)\n",
    "print(a)"
   ]
  },
  {
   "cell_type": "code",
   "execution_count": null,
   "metadata": {},
   "outputs": [],
   "source": []
  }
 ],
 "metadata": {
  "kernelspec": {
   "display_name": "Python 3",
   "language": "python",
   "name": "python3"
  },
  "language_info": {
   "codemirror_mode": {
    "name": "ipython",
    "version": 3
   },
   "file_extension": ".py",
   "mimetype": "text/x-python",
   "name": "python",
   "nbconvert_exporter": "python",
   "pygments_lexer": "ipython3",
   "version": "3.7.1"
  }
 },
 "nbformat": 4,
 "nbformat_minor": 2
}
